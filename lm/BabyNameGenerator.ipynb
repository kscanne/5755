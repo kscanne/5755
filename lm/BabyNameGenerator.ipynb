{
 "cells": [
  {
   "cell_type": "code",
   "execution_count": null,
   "metadata": {},
   "outputs": [],
   "source": [
    "import random\n",
    "import numpy as np\n",
    "from tensorflow.keras.utils import to_categorical"
   ]
  },
  {
   "cell_type": "code",
   "execution_count": null,
   "metadata": {},
   "outputs": [],
   "source": [
    "# Imagine there are 10^15 names in this list and we can't load into a list examples anymore!!\n",
    "# examples = [a.strip() for a in open('names-train.txt') if a.strip()]"
   ]
  },
  {
   "cell_type": "code",
   "execution_count": null,
   "metadata": {},
   "outputs": [],
   "source": [
    "# We still need the vocabulary, but can't compute from examples anymore\n",
    "# Instead, load the examples one by one and add characters as vocabulary items\n",
    "vocab = set(['<PAD>'])\n",
    "for a in open('names-train.txt'):\n",
    "    if a.strip():\n",
    "        for c in a.strip():\n",
    "            vocab.add(c)\n",
    "encoder = dict((c,i) for i,c in enumerate(vocab))\n",
    "decoder = dict((i,c) for i,c in enumerate(vocab))\n",
    "inputlen = 10"
   ]
  },
  {
   "cell_type": "code",
   "execution_count": null,
   "metadata": {},
   "outputs": [],
   "source": [
    "def example_generator_file(batchsize, filenm, total_examples, enc, inlen):\n",
    "    ex_file = open(filenm, 'r')\n",
    "    currexample = ''\n",
    "    examplenum = 0\n",
    "    charindex = 0\n",
    "    Xenc = [enc['<PAD>']]*inlen\n",
    "    while True:\n",
    "        X = []\n",
    "        y = []\n",
    "        while len(y) < batchsize:  \n",
    "            while charindex == len(currexample):\n",
    "                if currexample != '':\n",
    "                    X.append(Xenc.copy())\n",
    "                    y.append(enc['<PAD>'])\n",
    "                currexample = ex_file.readline()\n",
    "                examplenum += 1\n",
    "                if currexample == '' or examplenum == total_examples:\n",
    "                    ex_file.seek(0)\n",
    "                    currexample = ex_file.readline()\n",
    "                    examplenum = 0\n",
    "                currexample = currexample.rstrip('\\n')\n",
    "                charindex = 0\n",
    "                Xenc = [enc['<PAD>']]*inlen\n",
    "            nextchar = currexample[charindex]\n",
    "            X.append(Xenc.copy())\n",
    "            y.append(enc[nextchar])\n",
    "            Xenc.pop(0)\n",
    "            Xenc.append(enc[nextchar])\n",
    "            charindex += 1\n",
    "        yield (np.array(X), to_categorical(y, num_classes=len(enc)))"
   ]
  },
  {
   "cell_type": "code",
   "execution_count": null,
   "metadata": {},
   "outputs": [],
   "source": [
    "# below we'll train on full dataset; to separate out development data\n",
    "# you'll ideally put that data in a second file and call example_generator_file on that\n",
    "#from sklearn.model_selection import train_test_split\n",
    "#X_train, X_dev, y_train, y_dev = train_test_split(X, y, test_size=0.1, random_state = 42)"
   ]
  },
  {
   "cell_type": "code",
   "execution_count": null,
   "metadata": {
    "scrolled": false
   },
   "outputs": [],
   "source": [
    "from tensorflow.keras.models import Sequential\n",
    "from tensorflow.keras.layers import Dense, Embedding, Flatten\n",
    "emb_dim = 10\n",
    "model = Sequential()\n",
    "model.add(Embedding(input_dim=len(vocab), output_dim=emb_dim, input_length=inputlen))\n",
    "model.add(Flatten())\n",
    "model.add(Dense(40))\n",
    "model.add(Dense(len(vocab), activation='softmax'))\n",
    "model.compile(loss='categorical_crossentropy', optimizer='adam')\n",
    "model.summary()"
   ]
  },
  {
   "cell_type": "code",
   "execution_count": null,
   "metadata": {
    "scrolled": true
   },
   "outputs": [],
   "source": [
    "batch=1024\n",
    "totalnum=7574\n",
    "model.fit_generator(example_generator_file(batch, 'names-train.txt', totalnum, encoder, inputlen), steps_per_epoch=totalnum//batch, epochs=200, verbose=1)"
   ]
  },
  {
   "cell_type": "code",
   "execution_count": null,
   "metadata": {},
   "outputs": [],
   "source": [
    "def sample(preds, temperature=1.0):\n",
    "    preds = np.asarray(preds).astype('float64')\n",
    "    preds = np.log(preds) / temperature\n",
    "    exp_preds = np.exp(preds)\n",
    "    preds = exp_preds / np.sum(exp_preds)\n",
    "    probas = np.random.multinomial(1, preds, 1)\n",
    "    return np.argmax(probas)"
   ]
  },
  {
   "cell_type": "code",
   "execution_count": null,
   "metadata": {},
   "outputs": [],
   "source": [
    "def generate(temperature=1.0):\n",
    "    answer = ''\n",
    "    Xout = [encoder['<PAD>']]*inputlen\n",
    "    while True:\n",
    "        ydist = model.predict(np.array([Xout]), verbose=0)\n",
    "        nextchar_index = sample(ydist[0],temperature)\n",
    "        nextchar = decoder[nextchar_index]\n",
    "        if nextchar == '<PAD>' or len(answer)>100:\n",
    "            break\n",
    "        answer += nextchar\n",
    "        Xout.append(nextchar_index)\n",
    "        Xout.pop(0)\n",
    "    return answer\n",
    "    "
   ]
  },
  {
   "cell_type": "code",
   "execution_count": null,
   "metadata": {
    "scrolled": true
   },
   "outputs": [],
   "source": [
    "generate(0.5)"
   ]
  }
 ],
 "metadata": {
  "kernelspec": {
   "display_name": "Python 3",
   "language": "python",
   "name": "python3"
  },
  "language_info": {
   "codemirror_mode": {
    "name": "ipython",
    "version": 3
   },
   "file_extension": ".py",
   "mimetype": "text/x-python",
   "name": "python",
   "nbconvert_exporter": "python",
   "pygments_lexer": "ipython3",
   "version": "3.6.8"
  }
 },
 "nbformat": 4,
 "nbformat_minor": 4
}
