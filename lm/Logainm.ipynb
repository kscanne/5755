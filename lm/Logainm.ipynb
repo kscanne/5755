{
 "cells": [
  {
   "cell_type": "code",
   "execution_count": null,
   "metadata": {},
   "outputs": [],
   "source": [
    "import random\n",
    "import numpy as np"
   ]
  },
  {
   "cell_type": "code",
   "execution_count": null,
   "metadata": {},
   "outputs": [],
   "source": [
    "placenames = [a.strip() for a in open('logainm-train.txt') if a.strip()]\n",
    "maxlen = max(len(a) for a in placenames)"
   ]
  },
  {
   "cell_type": "code",
   "execution_count": null,
   "metadata": {},
   "outputs": [],
   "source": [
    "vocab = set([c for a in placenames for c in a])\n",
    "vocab.add('<PAD>')\n",
    "encoder = dict((c,i) for i,c in enumerate(vocab))\n",
    "decoder = dict((i,c) for i,c in enumerate(vocab))"
   ]
  },
  {
   "cell_type": "code",
   "execution_count": null,
   "metadata": {},
   "outputs": [],
   "source": [
    "from tensorflow.keras.utils import to_categorical\n",
    "X = []\n",
    "y = []\n",
    "inputlen = 20\n",
    "for a in placenames:\n",
    "    Xenc = [encoder['<PAD>']]*inputlen\n",
    "    for c in a:\n",
    "        X.append(Xenc.copy())\n",
    "        y.append(encoder[c])\n",
    "        Xenc.pop(0)\n",
    "        Xenc.append(encoder[c])\n",
    "    X.append(Xenc.copy())\n",
    "    y.append(encoder['<PAD>'])\n",
    "    \n",
    "X = np.array(X)\n",
    "y = to_categorical(y, num_classes=len(vocab))"
   ]
  },
  {
   "cell_type": "code",
   "execution_count": null,
   "metadata": {},
   "outputs": [],
   "source": [
    "from sklearn.model_selection import train_test_split\n",
    "X_train, X_dev, y_train, y_dev = train_test_split(X, y, test_size=0.1, random_state = 42)"
   ]
  },
  {
   "cell_type": "code",
   "execution_count": null,
   "metadata": {
    "scrolled": false
   },
   "outputs": [],
   "source": [
    "from tensorflow.keras.models import Sequential\n",
    "from tensorflow.keras.layers import Dense, LSTM, Embedding\n",
    "emb_dim = 20\n",
    "model = Sequential()\n",
    "model.add(Embedding(input_dim=len(vocab), output_dim=emb_dim, input_length=inputlen))\n",
    "model.add(LSTM(units=50,dropout=0.2,recurrent_dropout=0.2))\n",
    "model.add(Dense(len(vocab), activation='softmax'))\n",
    "model.compile(loss='categorical_crossentropy', optimizer='adam', metrics=['accuracy'])\n",
    "model.summary()"
   ]
  },
  {
   "cell_type": "code",
   "execution_count": null,
   "metadata": {
    "scrolled": false
   },
   "outputs": [],
   "source": [
    "model.fit(X_train, y_train, batch_size=128, epochs=10, validation_data=(X_dev, y_dev),verbose=2)"
   ]
  },
  {
   "cell_type": "code",
   "execution_count": null,
   "metadata": {},
   "outputs": [],
   "source": [
    "def sample(preds, temperature=1.0):\n",
    "    preds = np.asarray(preds).astype('float64')\n",
    "    preds = np.log(preds) / temperature\n",
    "    exp_preds = np.exp(preds)\n",
    "    preds = exp_preds / np.sum(exp_preds)\n",
    "    probas = np.random.multinomial(1, preds, 1)\n",
    "    return np.argmax(probas)"
   ]
  },
  {
   "cell_type": "code",
   "execution_count": null,
   "metadata": {},
   "outputs": [],
   "source": [
    "def generate(temperature=1.0):\n",
    "    answer = ''\n",
    "    Xout = [vmap['<PAD>']]*inputlen\n",
    "    while True:\n",
    "        ydist = model.predict(np.array([Xout]), verbose=0)\n",
    "        nextchar_index = sample(ydist[0],temperature)\n",
    "        nextchar = decoder[nextchar_index]\n",
    "        if nextchar == '<PAD>' or len(answer)>100:\n",
    "            break\n",
    "        answer += nextchar\n",
    "        Xout.append(nextchar_index)\n",
    "        Xout.pop(0)\n",
    "    return answer\n",
    "    "
   ]
  },
  {
   "cell_type": "code",
   "execution_count": null,
   "metadata": {},
   "outputs": [],
   "source": [
    "def generate_new(temperature=1.0):\n",
    "    while True:\n",
    "        answer = generate(temperature)\n",
    "        if answer in placenames:\n",
    "            print(answer,'is a real placename')\n",
    "        else:\n",
    "            break\n",
    "    return answer"
   ]
  },
  {
   "cell_type": "code",
   "execution_count": null,
   "metadata": {},
   "outputs": [],
   "source": [
    "print(generate_new(0.5),'vs.',random.choice(placenames))"
   ]
  }
 ],
 "metadata": {
  "kernelspec": {
   "display_name": "Python 3",
   "language": "python",
   "name": "python3"
  },
  "language_info": {
   "codemirror_mode": {
    "name": "ipython",
    "version": 3
   },
   "file_extension": ".py",
   "mimetype": "text/x-python",
   "name": "python",
   "nbconvert_exporter": "python",
   "pygments_lexer": "ipython3",
   "version": "3.6.8"
  }
 },
 "nbformat": 4,
 "nbformat_minor": 4
}
