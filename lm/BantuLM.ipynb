{
 "cells": [
  {
   "cell_type": "code",
   "execution_count": 1,
   "metadata": {},
   "outputs": [],
   "source": [
    "from math import log2\n",
    "vocabulary = ' !\"\\'(),-.0123456789:;?abcdefghijklmnopqrstuvwxyz'"
   ]
  },
  {
   "cell_type": "code",
   "execution_count": 2,
   "metadata": {},
   "outputs": [],
   "source": [
    "# returns a probability in (0,1)\n",
    "# return values must sum to 1.0 over all possible characters c\n",
    "def from_scratch_model(lang, c, history):\n",
    "  return 1/len(vocabulary)"
   ]
  },
  {
   "cell_type": "code",
   "execution_count": 3,
   "metadata": {},
   "outputs": [],
   "source": [
    "# returns a probability in (0,1)\n",
    "# return values must sum to 1.0 over all possible characters c\n",
    "def anything_goes_model(lang, c, history):\n",
    "  letter_mass = 0.8\n",
    "  if c >= 'a' and c <= 'z':\n",
    "    return letter_mass/26.0\n",
    "  else:\n",
    "    return (1-letter_mass)/(len(vocabulary)-26)"
   ]
  },
  {
   "cell_type": "code",
   "execution_count": 4,
   "metadata": {},
   "outputs": [],
   "source": [
    "def evaluate_one(lang):\n",
    "  testfile = open(lang+'-test.txt', 'r')\n",
    "  max_history = 100\n",
    "  history = []\n",
    "  loss_anything_goes = 0\n",
    "  loss_from_scratch = 0\n",
    "  count = 0\n",
    "  while True:\n",
    "    c = testfile.read(1)\n",
    "    if not c:\n",
    "      break\n",
    "    count += 1\n",
    "    loss_anything_goes -= log2(anything_goes_model(lang, c, history))\n",
    "    loss_from_scratch -= log2(from_scratch_model(lang, c, history))\n",
    "    if len(history) == max_history:\n",
    "      history.pop(0)\n",
    "    history.append(c)\n",
    "  return [loss_from_scratch/count, loss_anything_goes/count]\n",
    "     "
   ]
  },
  {
   "cell_type": "code",
   "execution_count": 5,
   "metadata": {},
   "outputs": [],
   "source": [
    "def evaluate():\n",
    "  ans = evaluate_one('cwe')\n",
    "  ans.extend(evaluate_one('sw'))\n",
    "  return ans"
   ]
  },
  {
   "cell_type": "code",
   "execution_count": 6,
   "metadata": {},
   "outputs": [
    {
     "data": {
      "text/plain": [
       "[5.584962500723902, 5.319860520998616, 5.584962500602032, 5.350618091434517]"
      ]
     },
     "execution_count": 6,
     "metadata": {},
     "output_type": "execute_result"
    }
   ],
   "source": [
    "evaluate()"
   ]
  }
 ],
 "metadata": {
  "kernelspec": {
   "display_name": "Python 3",
   "language": "python",
   "name": "python3"
  },
  "language_info": {
   "codemirror_mode": {
    "name": "ipython",
    "version": 3
   },
   "file_extension": ".py",
   "mimetype": "text/x-python",
   "name": "python",
   "nbconvert_exporter": "python",
   "pygments_lexer": "ipython3",
   "version": "3.6.8"
  }
 },
 "nbformat": 4,
 "nbformat_minor": 4
}
