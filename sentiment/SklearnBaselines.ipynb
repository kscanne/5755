{
 "cells": [
  {
   "cell_type": "code",
   "execution_count": null,
   "metadata": {},
   "outputs": [],
   "source": [
    "import pandas as pd\n",
    "training = pd.read_csv('train-small.tsv', sep=\"\\t\", header=None)\n",
    "training.columns = ['label', 'text']\n",
    "training = training[pd.notnull(training['text'])]\n",
    "training.head()"
   ]
  },
  {
   "cell_type": "code",
   "execution_count": null,
   "metadata": {},
   "outputs": [],
   "source": [
    "from sklearn.feature_extraction.text import CountVectorizer\n",
    "vectorizer = CountVectorizer(min_df=2, ngram_range=(1, 2))"
   ]
  },
  {
   "cell_type": "code",
   "execution_count": null,
   "metadata": {},
   "outputs": [],
   "source": [
    "from sklearn.model_selection import train_test_split\n",
    "X_train, X_dev, y_train, y_dev = train_test_split(training['text'], training['label'], test_size=0.2, random_state = 42)\n",
    "X_train_vec = vectorizer.fit_transform(X_train).toarray()"
   ]
  },
  {
   "cell_type": "code",
   "execution_count": null,
   "metadata": {},
   "outputs": [],
   "source": [
    "from sklearn.naive_bayes import GaussianNB\n",
    "nb_clf = GaussianNB().fit(X_train_vec, y_train)\n",
    "\n",
    "# Google translation of \"It's a beautiful day in the neighborhood.\":\n",
    "# Mae'n ddiwrnod hyfryd yn y gymdogaeth.\n",
    "print(nb_clf.predict(vectorizer.transform([\"Mae'n ddiwrnod hyfryd yn y gymdogaeth.\"]).toarray()))\n",
    "# Google translation of \"I'm really sad my courses are all online.\"\n",
    "# Rwy'n drist iawn bod fy nghyrsiau i gyd ar-lein.\n",
    "print(nb_clf.predict(vectorizer.transform([\"Rwy'n drist iawn bod fy nghyrsiau i gyd ar-lein.\"]).toarray()))"
   ]
  },
  {
   "cell_type": "code",
   "execution_count": null,
   "metadata": {},
   "outputs": [],
   "source": [
    "from sklearn.linear_model import LogisticRegression\n",
    "# L2 regularization by default\n",
    "lr_clf = LogisticRegression(random_state=42, max_iter=1000).fit(X_train_vec, y_train)\n",
    "\n",
    "print(lr_clf.predict(vectorizer.transform([\"Mae'n ddiwrnod hyfryd yn y gymdogaeth.\"]).toarray()))\n",
    "print(lr_clf.predict(vectorizer.transform([\"Rwy'n drist iawn bod fy nghyrsiau i gyd ar-lein.\"]).toarray()))"
   ]
  },
  {
   "cell_type": "code",
   "execution_count": null,
   "metadata": {},
   "outputs": [],
   "source": [
    "from sklearn.metrics import classification_report, accuracy_score\n",
    "X_dev_vec = vectorizer.transform(X_dev).toarray()\n",
    "y_guess_nb = nb_clf.predict(X_dev_vec)\n",
    "print(accuracy_score(y_dev, y_guess_nb))\n",
    "print(classification_report(y_dev, y_guess_nb))\n",
    "y_guess_lr = lr_clf.predict(X_dev_vec)\n",
    "print(accuracy_score(y_dev, y_guess_lr))\n",
    "print(classification_report(y_dev, y_guess_lr))"
   ]
  }
 ],
 "metadata": {
  "kernelspec": {
   "display_name": "Python 3",
   "language": "python",
   "name": "python3"
  },
  "language_info": {
   "codemirror_mode": {
    "name": "ipython",
    "version": 3
   },
   "file_extension": ".py",
   "mimetype": "text/x-python",
   "name": "python",
   "nbconvert_exporter": "python",
   "pygments_lexer": "ipython3",
   "version": "3.6.8"
  }
 },
 "nbformat": 4,
 "nbformat_minor": 4
}
