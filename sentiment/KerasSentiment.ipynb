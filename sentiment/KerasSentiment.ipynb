{
 "cells": [
  {
   "cell_type": "code",
   "execution_count": null,
   "metadata": {},
   "outputs": [],
   "source": [
    "import pandas as pd\n",
    "import csv\n",
    "training = pd.read_csv('train-small.tsv', sep=\"\\t\", header=None, quoting = csv.QUOTE_NONE)\n",
    "training.columns = ['label', 'text']\n",
    "training = training[pd.notnull(training['text'])]\n",
    "training.head()"
   ]
  },
  {
   "cell_type": "code",
   "execution_count": null,
   "metadata": {},
   "outputs": [],
   "source": [
    "from sklearn.model_selection import train_test_split\n",
    "X_train, X_dev, y_train_str, y_dev_str = train_test_split(training['text'], training['label'], test_size=0.2, random_state = 42)\n",
    "y_train = [int(a) for a in y_train_str]\n",
    "y_dev = [int(a) for a in y_dev_str]"
   ]
  },
  {
   "cell_type": "code",
   "execution_count": null,
   "metadata": {},
   "outputs": [],
   "source": [
    "from tensorflow.keras.preprocessing.text import Tokenizer\n",
    "V=10000\n",
    "mytokenizer = Tokenizer(num_words=V)"
   ]
  },
  {
   "cell_type": "code",
   "execution_count": null,
   "metadata": {},
   "outputs": [],
   "source": [
    "mytokenizer.fit_on_texts(training['text'])\n",
    "print(len(mytokenizer.word_index))"
   ]
  },
  {
   "cell_type": "code",
   "execution_count": null,
   "metadata": {
    "scrolled": false
   },
   "outputs": [],
   "source": [
    "from tensorflow.keras.preprocessing.sequence import pad_sequences\n",
    "max_length = max([len(s.split()) for s in training['text']])\n",
    "# V = 1+len(mytokenizer.word_index)\n",
    "X_train_seq = mytokenizer.texts_to_sequences(X_train)\n",
    "X_dev_seq = mytokenizer.texts_to_sequences(X_dev)\n",
    "X_train_padded = pad_sequences(X_train_seq, maxlen=max_length, padding='post')\n",
    "X_dev_padded = pad_sequences(X_dev_seq, maxlen=max_length, padding='post')"
   ]
  },
  {
   "cell_type": "code",
   "execution_count": null,
   "metadata": {
    "scrolled": false
   },
   "outputs": [],
   "source": [
    "from tensorflow.keras.models import Sequential\n",
    "from tensorflow.keras.layers import Dense, LSTM, Embedding\n",
    "emb_dim = 100\n",
    "model = Sequential()\n",
    "model.add(Embedding(input_dim=V, output_dim=emb_dim, input_length=max_length))\n",
    "model.add(LSTM(units=100,dropout=0.2,recurrent_dropout=0.2))\n",
    "model.add(Dense(1, activation='sigmoid'))\n",
    "model.compile(loss='binary_crossentropy', optimizer='adam', metrics=['accuracy'])\n",
    "model.summary()"
   ]
  },
  {
   "cell_type": "code",
   "execution_count": null,
   "metadata": {
    "scrolled": true
   },
   "outputs": [],
   "source": [
    "model.fit(X_train_padded, y_train, batch_size=128, epochs=10, validation_data=(X_dev_padded, y_dev),verbose=2)"
   ]
  },
  {
   "cell_type": "code",
   "execution_count": null,
   "metadata": {},
   "outputs": [],
   "source": [
    "more_tests = [\"Mae'n ddiwrnod hyfryd yn y gymdogaeth.\", \"Rwy'n drist iawn bod fy nghyrsiau i gyd ar-lein.\"]\n",
    "more_tests_seq = mytokenizer.texts_to_sequences(more_tests)\n",
    "more_tests_padded = pad_sequences(more_tests_seq, maxlen=max_length, padding='post')\n",
    "model.predict(x=more_tests_padded)\n"
   ]
  },
  {
   "cell_type": "code",
   "execution_count": null,
   "metadata": {},
   "outputs": [],
   "source": [
    "from sklearn.metrics import classification_report, accuracy_score\n",
    "y_classes = model.predict_classes(x=X_dev_padded)\n",
    "print(accuracy_score(y_dev, y_classes))\n",
    "print(classification_report(y_dev, y_classes))"
   ]
  },
  {
   "cell_type": "code",
   "execution_count": null,
   "metadata": {},
   "outputs": [],
   "source": [
    "import numpy as np\n",
    "embeddings = dict()\n",
    "f = open('cy-vectors.txt','r')\n",
    "for line in f:\n",
    "  pieces = line.split()\n",
    "  embeddings[pieces[0]] = np.asarray(pieces[1:])\n",
    "f.close()"
   ]
  },
  {
   "cell_type": "code",
   "execution_count": null,
   "metadata": {},
   "outputs": [],
   "source": [
    "totalV = 1+len(mytokenizer.word_index)\n",
    "embedding_matrix = np.zeros((totalV, emb_dim))\n",
    "for word, i in mytokenizer.word_index.items():\n",
    "  vec = embeddings.get(word)\n",
    "  if vec is not None:\n",
    "    embedding_matrix[i] = vec"
   ]
  },
  {
   "cell_type": "code",
   "execution_count": null,
   "metadata": {
    "scrolled": true
   },
   "outputs": [],
   "source": [
    "from tensorflow.keras.models import Sequential\n",
    "from tensorflow.keras.layers import Dense, LSTM, Embedding\n",
    "from tensorflow.keras.initializers import Constant\n",
    "model = Sequential()\n",
    "model.add(Embedding(input_dim=totalV, output_dim=emb_dim, weights=[embedding_matrix], input_length=max_length, trainable=False))\n",
    "model.add(LSTM(units=100,dropout=0.2,recurrent_dropout=0.2))\n",
    "model.add(Dense(1, activation='sigmoid'))\n",
    "model.compile(loss='binary_crossentropy', optimizer='adam', metrics=['accuracy'])\n",
    "model.summary()"
   ]
  },
  {
   "cell_type": "code",
   "execution_count": null,
   "metadata": {
    "scrolled": true
   },
   "outputs": [],
   "source": [
    "model.fit(X_train_padded, y_train, batch_size=128, epochs=10, validation_data=(X_dev_padded, y_dev),verbose=2)"
   ]
  },
  {
   "cell_type": "code",
   "execution_count": null,
   "metadata": {},
   "outputs": [],
   "source": [
    "from sklearn.metrics import classification_report, accuracy_score\n",
    "y_classes = model.predict_classes(x=X_dev_padded)\n",
    "print(accuracy_score(y_dev, y_classes))\n",
    "print(classification_report(y_dev, y_classes))"
   ]
  }
 ],
 "metadata": {
  "kernelspec": {
   "display_name": "Python 3",
   "language": "python",
   "name": "python3"
  },
  "language_info": {
   "codemirror_mode": {
    "name": "ipython",
    "version": 3
   },
   "file_extension": ".py",
   "mimetype": "text/x-python",
   "name": "python",
   "nbconvert_exporter": "python",
   "pygments_lexer": "ipython3",
   "version": "3.6.8"
  }
 },
 "nbformat": 4,
 "nbformat_minor": 4
}
