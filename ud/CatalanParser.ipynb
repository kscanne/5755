{
 "cells": [
  {
   "cell_type": "code",
   "execution_count": 1,
   "metadata": {},
   "outputs": [],
   "source": [
    "import re\n",
    "import random"
   ]
  },
  {
   "cell_type": "code",
   "execution_count": 2,
   "metadata": {},
   "outputs": [],
   "source": [
    "# returns number of labels that count toward LAS, so discard PUNCT and multiword tokens\n",
    "def real_label_count(sentence):\n",
    "  answer = 0\n",
    "  for tok in sentence:\n",
    "    if re.search(r'-',tok[0]):\n",
    "      continue\n",
    "    if tok[3] != 'PUNCT':\n",
    "      answer += 1\n",
    "  return answer"
   ]
  },
  {
   "cell_type": "code",
   "execution_count": 3,
   "metadata": {},
   "outputs": [],
   "source": [
    "def evaluate_parse(sentence, parse):\n",
    "  answer = 0\n",
    "  for i in range(len(sentence)):\n",
    "    if sentence[i][6]==parse[i][6] and sentence[i][7]==parse[i][7]:\n",
    "      answer += 1\n",
    "  return answer"
   ]
  },
  {
   "cell_type": "code",
   "execution_count": 4,
   "metadata": {},
   "outputs": [],
   "source": [
    "# a sentence is a list of tokens\n",
    "# a token is a list of the first six features in CoNNL-U format\n",
    "# this function should append the head and the dependency label as the 7th and 8th features\n",
    "# Baseline algorithm labels everything as a determiner with the following token as the head (~13% accuracy!)\n",
    "def parse_sentence(sentence):\n",
    "  for tok in sentence:\n",
    "    if re.search(r'-',tok[0]):\n",
    "      tok.append('_')\n",
    "      tok.append('_')\n",
    "    else:\n",
    "      tok.append(str(1+int(tok[0])))\n",
    "      tok.append('det')\n",
    "  return sentence\n",
    "    "
   ]
  },
  {
   "cell_type": "code",
   "execution_count": 5,
   "metadata": {},
   "outputs": [],
   "source": [
    "def evaluate():\n",
    "  testfile = open('ca_ancora-ud-test.conllu','r')\n",
    "  sentence = []\n",
    "  total = 0\n",
    "  correct = 0\n",
    "  for line in testfile:\n",
    "    line = line.rstrip('\\n')\n",
    "    if line=='':\n",
    "      parsed = parse_sentence([tok[:6] for tok in sentence])\n",
    "      correct += evaluate_parse(sentence, parsed)\n",
    "      total += real_label_count(sentence)\n",
    "      sentence = []\n",
    "    elif line[0]=='#':\n",
    "      pass\n",
    "    else:\n",
    "      sentence.append(line.split('\\t'))\n",
    "  return correct/total"
   ]
  },
  {
   "cell_type": "code",
   "execution_count": 6,
   "metadata": {},
   "outputs": [
    {
     "data": {
      "text/plain": [
       "0.13397506100255538"
      ]
     },
     "execution_count": 6,
     "metadata": {},
     "output_type": "execute_result"
    }
   ],
   "source": [
    "evaluate()"
   ]
  }
 ],
 "metadata": {
  "kernelspec": {
   "display_name": "Python 3",
   "language": "python",
   "name": "python3"
  },
  "language_info": {
   "codemirror_mode": {
    "name": "ipython",
    "version": 3
   },
   "file_extension": ".py",
   "mimetype": "text/x-python",
   "name": "python",
   "nbconvert_exporter": "python",
   "pygments_lexer": "ipython3",
   "version": "3.6.8"
  }
 },
 "nbformat": 4,
 "nbformat_minor": 4
}
