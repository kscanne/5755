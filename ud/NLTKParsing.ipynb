{
 "cells": [
  {
   "cell_type": "code",
   "execution_count": null,
   "metadata": {},
   "outputs": [],
   "source": [
    "import nltk"
   ]
  },
  {
   "cell_type": "markdown",
   "metadata": {},
   "source": [
    "* `S -> NP VP`\n",
    "* `NP -> NOUN`\n",
    "* `NP -> DET NOUN`\n",
    "* `NP -> DET NOUN PP`\n",
    "* `NP -> NOUN PP`\n",
    "* `VP -> VERB NP`\n",
    "* `VP -> VERB NP PP`\n",
    "* `PP -> ADP NP`\n",
    "* `DET -> 'the' | 'a'`\n",
    "* `NOUN -> 'bear' | 'tree' | 'dog'`\n",
    "* `VERB -> 'chased'`\n",
    "* `ADP -> 'up' | 'around' | 'behind'`"
   ]
  },
  {
   "cell_type": "code",
   "execution_count": null,
   "metadata": {},
   "outputs": [],
   "source": [
    "g = nltk.data.load('file:my.cfg')"
   ]
  },
  {
   "cell_type": "code",
   "execution_count": null,
   "metadata": {},
   "outputs": [],
   "source": [
    "sent = 'the dog chased the bear behind the tree'.split()\n",
    "sent"
   ]
  },
  {
   "cell_type": "code",
   "execution_count": null,
   "metadata": {},
   "outputs": [],
   "source": [
    "parser = nltk.RecursiveDescentParser(g)"
   ]
  },
  {
   "cell_type": "code",
   "execution_count": null,
   "metadata": {
    "scrolled": true
   },
   "outputs": [],
   "source": [
    "for t in parser.parse(sent):\n",
    "    print(t)"
   ]
  },
  {
   "cell_type": "markdown",
   "metadata": {},
   "source": [
    "* `S -> NP VP              [1.0]`\n",
    "* `NP -> NOUN              [0.2]`\n",
    "* `NP -> DET NOUN          [0.5]`\n",
    "* `NP -> DET NOUN PP       [0.15]`\n",
    "* `NP -> NOUN PP           [0.15]`\n",
    "* `VP -> VERB NP           [0.6]`\n",
    "* `VP -> VERB NP PP        [0.4]`\n",
    "* `PP -> ADP NP            [1.0]`\n",
    "* `DET -> 'the' [0.7] | 'a' [0.3]`\n",
    "* `NOUN -> 'bear' [0.4] | 'tree' [0.3] | 'dog' [0.3]`\n",
    "* `VERB -> 'chased' [1.0]`\n",
    "* `ADP -> 'up' [0.4] | 'around' [0.3] | 'behind' [0.3]`"
   ]
  },
  {
   "cell_type": "code",
   "execution_count": null,
   "metadata": {
    "scrolled": true
   },
   "outputs": [],
   "source": [
    "pg = nltk.data.load('file:my.pcfg')\n",
    "pparser = nltk.ViterbiParser(pg)\n",
    "for t in pparser.parse(sent):\n",
    "    print(t)"
   ]
  },
  {
   "cell_type": "code",
   "execution_count": null,
   "metadata": {},
   "outputs": [],
   "source": [
    "import nltk.corpus\n",
    "nltk.download('treebank')\n",
    "ptb = nltk.corpus.treebank"
   ]
  },
  {
   "cell_type": "code",
   "execution_count": null,
   "metadata": {
    "scrolled": true
   },
   "outputs": [],
   "source": [
    "print(ptb.raw('wsj_0001.mrg'))"
   ]
  },
  {
   "cell_type": "markdown",
   "metadata": {},
   "source": [
    "The following snippets are from http://damir.cavar.me/pynotebooks/PCFG_Parsing_with_NLTK.html"
   ]
  },
  {
   "cell_type": "code",
   "execution_count": null,
   "metadata": {
    "scrolled": false
   },
   "outputs": [],
   "source": [
    "from nltk.corpus import treebank\n",
    "productions = []\n",
    "for t in treebank.fileids()[:20]:\n",
    "    for x in treebank.parsed_sents(t):\n",
    "        productions += x.productions()"
   ]
  },
  {
   "cell_type": "code",
   "execution_count": null,
   "metadata": {},
   "outputs": [],
   "source": [
    "from nltk import Nonterminal\n",
    "S = Nonterminal('S')"
   ]
  },
  {
   "cell_type": "code",
   "execution_count": null,
   "metadata": {},
   "outputs": [],
   "source": [
    "pgrammar = nltk.induce_pcfg(S, productions)\n",
    "print(pgrammar)"
   ]
  },
  {
   "cell_type": "code",
   "execution_count": null,
   "metadata": {},
   "outputs": [],
   "source": [
    "first_sent = treebank.parsed_sents('wsj_0001.mrg')[0].leaves()\n",
    "print(first_sent)"
   ]
  },
  {
   "cell_type": "code",
   "execution_count": null,
   "metadata": {
    "scrolled": true
   },
   "outputs": [],
   "source": [
    "ptbparser = nltk.ViterbiParser(pgrammar)\n",
    "for t in ptbparser.parse(first_sent):\n",
    "    print(t)"
   ]
  },
  {
   "cell_type": "code",
   "execution_count": null,
   "metadata": {},
   "outputs": [],
   "source": [
    "print(ptb.parsed_sents('wsj_0001.mrg')[0])"
   ]
  }
 ],
 "metadata": {
  "kernelspec": {
   "display_name": "Python 3",
   "language": "python",
   "name": "python3"
  },
  "language_info": {
   "codemirror_mode": {
    "name": "ipython",
    "version": 3
   },
   "file_extension": ".py",
   "mimetype": "text/x-python",
   "name": "python",
   "nbconvert_exporter": "python",
   "pygments_lexer": "ipython3",
   "version": "3.6.8"
  }
 },
 "nbformat": 4,
 "nbformat_minor": 4
}
