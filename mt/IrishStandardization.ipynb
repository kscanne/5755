{
 "cells": [
  {
   "cell_type": "code",
   "execution_count": 1,
   "metadata": {},
   "outputs": [],
   "source": [
    "from nltk.translate.bleu_score import corpus_bleu\n",
    "import re"
   ]
  },
  {
   "cell_type": "code",
   "execution_count": 2,
   "metadata": {},
   "outputs": [],
   "source": [
    "# Baseline leave sentence unchanged; BLEU score is still > 0.5!\n",
    "def from_scratch_translation(source_sent):\n",
    "  return source_sent"
   ]
  },
  {
   "cell_type": "code",
   "execution_count": 3,
   "metadata": {},
   "outputs": [],
   "source": [
    "def simple_fixes(s):\n",
    "  s = s.replace('sg','sc')\n",
    "  s = s.replace('sd','st')\n",
    "  s = s.replace('sb','sp')\n",
    "  s = s.replace('eó','eo')\n",
    "  s = s.replace('thch','ch')\n",
    "  s = re.sub(r'll([rst])', r'l\\1', s)\n",
    "  return s"
   ]
  },
  {
   "cell_type": "code",
   "execution_count": 4,
   "metadata": {},
   "outputs": [],
   "source": [
    "# Slightly better baseline is to apply a few global spelling changes\n",
    "def anything_goes_translation(source_sent):\n",
    "  return [simple_fixes(s) for s in source_sent] "
   ]
  },
  {
   "cell_type": "code",
   "execution_count": 5,
   "metadata": {},
   "outputs": [],
   "source": [
    "def evaluate():\n",
    "  testsource = open('test-source.txt', 'r')\n",
    "  sentence = []\n",
    "  from_scratch_hypotheses = []\n",
    "  anything_goes_hypotheses = []\n",
    "  for line in testsource:\n",
    "    token = line.rstrip(\"\\n\")\n",
    "    if token == '<s>':\n",
    "      sentence = []\n",
    "    elif token == '</s>':\n",
    "      from_scratch_hypotheses.append(from_scratch_translation(sentence))\n",
    "      anything_goes_hypotheses.append(anything_goes_translation(sentence))\n",
    "    else:\n",
    "      sentence.append(token)\n",
    "  references = []\n",
    "  testtarget = open('test-target.txt', 'r')\n",
    "  for line in testtarget:\n",
    "    token = line.rstrip(\"\\n\")\n",
    "    if token == '<s>':\n",
    "      sentence = []\n",
    "    elif token == '</s>':\n",
    "      references.append([sentence])\n",
    "    else:\n",
    "      sentence.append(token)\n",
    "  return (corpus_bleu(references,from_scratch_hypotheses), corpus_bleu(references,anything_goes_hypotheses))"
   ]
  },
  {
   "cell_type": "code",
   "execution_count": 6,
   "metadata": {},
   "outputs": [
    {
     "data": {
      "text/plain": [
       "(0.5214891402990179, 0.5317657450138608)"
      ]
     },
     "execution_count": 6,
     "metadata": {},
     "output_type": "execute_result"
    }
   ],
   "source": [
    "evaluate()"
   ]
  }
 ],
 "metadata": {
  "kernelspec": {
   "display_name": "Python 3",
   "language": "python",
   "name": "python3"
  },
  "language_info": {
   "codemirror_mode": {
    "name": "ipython",
    "version": 3
   },
   "file_extension": ".py",
   "mimetype": "text/x-python",
   "name": "python",
   "nbconvert_exporter": "python",
   "pygments_lexer": "ipython3",
   "version": "3.6.8"
  }
 },
 "nbformat": 4,
 "nbformat_minor": 4
}
