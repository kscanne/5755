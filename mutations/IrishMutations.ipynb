{
 "cells": [
  {
   "cell_type": "code",
   "execution_count": 1,
   "metadata": {},
   "outputs": [],
   "source": [
    "import random"
   ]
  },
  {
   "cell_type": "code",
   "execution_count": 2,
   "metadata": {},
   "outputs": [],
   "source": [
    "# argument sent is a list of [token,label] pairs; return number of correctly predicted labels\n",
    "def predict_from_scratch(sent):\n",
    "  correct = 0\n",
    "  for token in sent:\n",
    "    guess = random.choice(['S','U','T','H','N'])\n",
    "    if guess == token[1]:\n",
    "      correct += 1\n",
    "  return correct"
   ]
  },
  {
   "cell_type": "code",
   "execution_count": 3,
   "metadata": {},
   "outputs": [],
   "source": [
    "# argument sent is a list of [token,label] pairs; return number of correctly predicted labels\n",
    "def predict_anything_goes(sent):\n",
    "  correct = 0\n",
    "  for token in sent:\n",
    "    guess = 'N'\n",
    "    if guess == token[1]:\n",
    "      correct += 1\n",
    "  return correct"
   ]
  },
  {
   "cell_type": "code",
   "execution_count": 4,
   "metadata": {},
   "outputs": [],
   "source": [
    "def evaluate():\n",
    "  total = 0\n",
    "  correct_from_scratch = 0\n",
    "  correct_anything_goes = 0\n",
    "  testfile = open('test.tsv', 'r')\n",
    "  sentence = []\n",
    "  for line in testfile:\n",
    "    total += 1\n",
    "    pieces = line.rstrip(\"\\n\").split(\"\\t\")\n",
    "    if pieces[0]=='<S>':\n",
    "      correct_from_scratch += predict_from_scratch(sentence)\n",
    "      correct_anything_goes += predict_anything_goes(sentence)\n",
    "      sentence = []\n",
    "    else:\n",
    "      sentence.append(pieces)\n",
    "  correct_from_scratch += predict_from_scratch(sentence)\n",
    "  correct_anything_goes += predict_anything_goes(sentence)\n",
    "  return (correct_from_scratch/total, correct_anything_goes/total)"
   ]
  },
  {
   "cell_type": "code",
   "execution_count": 5,
   "metadata": {},
   "outputs": [
    {
     "data": {
      "text/plain": [
       "(0.191809, 0.819613)"
      ]
     },
     "execution_count": 5,
     "metadata": {},
     "output_type": "execute_result"
    }
   ],
   "source": [
    "evaluate()"
   ]
  }
 ],
 "metadata": {
  "kernelspec": {
   "display_name": "Python 3",
   "language": "python",
   "name": "python3"
  },
  "language_info": {
   "codemirror_mode": {
    "name": "ipython",
    "version": 3
   },
   "file_extension": ".py",
   "mimetype": "text/x-python",
   "name": "python",
   "nbconvert_exporter": "python",
   "pygments_lexer": "ipython3",
   "version": "3.6.8"
  }
 },
 "nbformat": 4,
 "nbformat_minor": 4
}
