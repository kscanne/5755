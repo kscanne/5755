{
 "cells": [
  {
   "cell_type": "code",
   "execution_count": null,
   "metadata": {},
   "outputs": [],
   "source": [
    "targetraw = ['he broke rocks', 'she broke rocks', 'he broke his hand', 'she broke her hand', 'he ate rocks', 'he ate his bread', 'she ate her bread']\n",
    "sourceraw = ['bhris sé clocha', 'bhris sí clocha', 'bhris sé a lámh', 'bhris sí a lámh', 'd\\'ith sé clocha', 'd\\'ith sé a arán', 'd\\'ith sí a harán']"
   ]
  },
  {
   "cell_type": "code",
   "execution_count": null,
   "metadata": {},
   "outputs": [],
   "source": [
    "targetcorpus = [sent.split() for sent in targetraw]\n",
    "sourcecorpus = [sent.split() for sent in sourceraw]"
   ]
  },
  {
   "cell_type": "code",
   "execution_count": null,
   "metadata": {},
   "outputs": [],
   "source": [
    "sourcevocab = set([w for s in sourcecorpus for w in s])\n",
    "targetvocab = set([w for s in targetcorpus for w in s])"
   ]
  },
  {
   "cell_type": "code",
   "execution_count": null,
   "metadata": {},
   "outputs": [],
   "source": [
    "# store lexical translation probabilities in a dictionary P(s|t) stored with key (s,t)\n",
    "# here, initialize to uniform distribution\n",
    "lexP = dict()\n",
    "for s in sourcevocab:\n",
    "    for t in targetvocab:\n",
    "        lexP[(s,t)] = 1/len(sourcevocab)"
   ]
  },
  {
   "cell_type": "code",
   "execution_count": null,
   "metadata": {},
   "outputs": [],
   "source": [
    "def printTable(P, sv, tv):\n",
    "    print(' '.ljust(12) + ' '.join([t.ljust(7) for t in tv]))\n",
    "    for s in sv:\n",
    "        print(s.ljust(12) + ' '.join([\"{0:.5f}\".format(P[(s,t)]) for t in tv]))"
   ]
  },
  {
   "cell_type": "code",
   "execution_count": null,
   "metadata": {
    "scrolled": true
   },
   "outputs": [],
   "source": [
    "# distribution is over source words, so columns here will always add to 1.0\n",
    "printTable(lexP,sourcevocab,targetvocab)"
   ]
  },
  {
   "cell_type": "code",
   "execution_count": null,
   "metadata": {},
   "outputs": [],
   "source": [
    "# one iteration of EM\n",
    "def EM(P, sc, tc, sv, tv):\n",
    "    C = dict()   # keys are pairs (s,t); count of number of alignments\n",
    "    for s in sv:\n",
    "        for t in tv:\n",
    "            C[(s,t)]=0\n",
    "    total = dict()  # keys are source language words\n",
    "    for t in tv:\n",
    "        total[t]=0\n",
    "    for ssent, tsent in zip(sc,tc):\n",
    "        sent_totals=dict()\n",
    "        for s in ssent:\n",
    "            sent_totals[s]=0\n",
    "            for t in tsent:\n",
    "                sent_totals[s] += P[(s,t)]\n",
    "        for s in ssent:\n",
    "            for t in tsent:\n",
    "                C[(s,t)] += P[(s,t)]/sent_totals[s]\n",
    "                total[t] += P[(s,t)]/sent_totals[s]\n",
    "    for t in tv:\n",
    "        for s in sv:\n",
    "            P[(s,t)] = C[(s,t)]/total[t]"
   ]
  },
  {
   "cell_type": "code",
   "execution_count": null,
   "metadata": {
    "scrolled": true
   },
   "outputs": [],
   "source": [
    "EM(lexP,sourcecorpus,targetcorpus,sourcevocab,targetvocab)\n",
    "printTable(lexP,sourcevocab,targetvocab)"
   ]
  },
  {
   "cell_type": "code",
   "execution_count": null,
   "metadata": {},
   "outputs": [],
   "source": [
    "for i in range(1000):\n",
    "    EM(lexP,sourcecorpus,targetcorpus,sourcevocab,targetvocab)\n",
    "printTable(lexP,sourcevocab,targetvocab)"
   ]
  }
 ],
 "metadata": {
  "kernelspec": {
   "display_name": "Python 3",
   "language": "python",
   "name": "python3"
  },
  "language_info": {
   "codemirror_mode": {
    "name": "ipython",
    "version": 3
   },
   "file_extension": ".py",
   "mimetype": "text/x-python",
   "name": "python",
   "nbconvert_exporter": "python",
   "pygments_lexer": "ipython3",
   "version": "3.6.8"
  }
 },
 "nbformat": 4,
 "nbformat_minor": 4
}
