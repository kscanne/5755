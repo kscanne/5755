{
 "cells": [
  {
   "cell_type": "code",
   "execution_count": 1,
   "metadata": {},
   "outputs": [],
   "source": [
    "targetcorpus = [['he', 'broke', 'rocks'], ['she', 'broke', 'rocks'], ['he', 'broke', 'his', 'hand'], ['she', 'broke', 'her', 'hand'], ['he', 'ate', 'rocks'], ['he', 'ate', 'his', 'bread'], ['she', 'ate', 'her', 'bread']]\n",
    "sourcecorpus = [['bhris', 'sé', 'clocha'], ['bhris', 'sí', 'clocha'], ['bhris', 'sé', 'a', 'lámh'], ['bhris', 'sí', 'a', 'lámh'], ['d\\'ith', 'sé', 'clocha'], ['d\\'ith', 'sé', 'a', 'arán'],['d\\'ith', 'sí', 'a', 'harán']]"
   ]
  },
  {
   "cell_type": "code",
   "execution_count": 2,
   "metadata": {},
   "outputs": [],
   "source": [
    "sourcevocab = set([w for s in sourcecorpus for w in s])\n",
    "targetvocab = set([w for s in targetcorpus for w in s])"
   ]
  },
  {
   "cell_type": "code",
   "execution_count": 3,
   "metadata": {},
   "outputs": [],
   "source": [
    "# store lexical translation probabilities in a dictionary P(s|t) stored with key (s,t)\n",
    "# here, initialize to uniform distribution\n",
    "lexP = dict()\n",
    "for s in sourcevocab:\n",
    "    for t in targetvocab:\n",
    "        lexP[(s,t)] = 1/len(sourcevocab)"
   ]
  },
  {
   "cell_type": "code",
   "execution_count": 4,
   "metadata": {},
   "outputs": [],
   "source": [
    "def printTable(P, sv, tv):\n",
    "    print(' '.ljust(12) + ' '.join([t.ljust(7) for t in tv]))\n",
    "    for s in sv:\n",
    "        print(s.ljust(12) + ' '.join([\"{0:.5f}\".format(P[(s,t)]) for t in tv]))"
   ]
  },
  {
   "cell_type": "code",
   "execution_count": 5,
   "metadata": {
    "scrolled": true
   },
   "outputs": [
    {
     "name": "stdout",
     "output_type": "stream",
     "text": [
      "            broke   his     she     he      ate     bread   hand    rocks   her    \n",
      "bhris       0.11111 0.11111 0.11111 0.11111 0.11111 0.11111 0.11111 0.11111 0.11111\n",
      "d'ith       0.11111 0.11111 0.11111 0.11111 0.11111 0.11111 0.11111 0.11111 0.11111\n",
      "sí          0.11111 0.11111 0.11111 0.11111 0.11111 0.11111 0.11111 0.11111 0.11111\n",
      "a           0.11111 0.11111 0.11111 0.11111 0.11111 0.11111 0.11111 0.11111 0.11111\n",
      "clocha      0.11111 0.11111 0.11111 0.11111 0.11111 0.11111 0.11111 0.11111 0.11111\n",
      "harán       0.11111 0.11111 0.11111 0.11111 0.11111 0.11111 0.11111 0.11111 0.11111\n",
      "lámh        0.11111 0.11111 0.11111 0.11111 0.11111 0.11111 0.11111 0.11111 0.11111\n",
      "arán        0.11111 0.11111 0.11111 0.11111 0.11111 0.11111 0.11111 0.11111 0.11111\n",
      "sé          0.11111 0.11111 0.11111 0.11111 0.11111 0.11111 0.11111 0.11111 0.11111\n"
     ]
    }
   ],
   "source": [
    "printTable(lexP,sourcevocab,targetvocab)"
   ]
  },
  {
   "cell_type": "code",
   "execution_count": 8,
   "metadata": {},
   "outputs": [],
   "source": [
    "# one iteration of EM\n",
    "def EM(P, sc, tc, sv, tv):\n",
    "    C = dict()   # keys are pairs (s,t); count of number of alignments\n",
    "    for s in sv:\n",
    "        for t in tv:\n",
    "            C[(s,t)]=0\n",
    "    total = dict()  # keys are source language words\n",
    "    for t in tv:\n",
    "        total[t]=0\n",
    "    for ssent, tsent in zip(sc,tc):\n",
    "        sent_totals=dict()\n",
    "        for s in ssent:\n",
    "            sent_totals[s]=0\n",
    "            for t in tsent:\n",
    "                sent_totals[s] += P[(s,t)]\n",
    "        for s in ssent:\n",
    "            for t in tsent:\n",
    "                C[(s,t)] += P[(s,t)]/sent_totals[s]\n",
    "                total[t] += P[(s,t)]/sent_totals[s]\n",
    "    for t in tv:\n",
    "        for s in sv:\n",
    "            P[(s,t)] = C[(s,t)]/total[t]"
   ]
  },
  {
   "cell_type": "code",
   "execution_count": 9,
   "metadata": {
    "scrolled": true
   },
   "outputs": [
    {
     "name": "stdout",
     "output_type": "stream",
     "text": [
      "            broke   his     she     he      ate     bread   hand    rocks   her    \n",
      "bhris       0.29167 0.12500 0.19444 0.14583 0.00000 0.00000 0.25000 0.22222 0.12500\n",
      "d'ith       0.00000 0.12500 0.08333 0.14583 0.27778 0.25000 0.00000 0.11111 0.12500\n",
      "sí          0.14583 0.00000 0.27778 0.00000 0.08333 0.12500 0.12500 0.11111 0.25000\n",
      "a           0.12500 0.25000 0.16667 0.12500 0.16667 0.25000 0.25000 0.00000 0.25000\n",
      "clocha      0.16667 0.00000 0.11111 0.16667 0.11111 0.00000 0.00000 0.33333 0.00000\n",
      "harán       0.00000 0.00000 0.08333 0.00000 0.08333 0.12500 0.00000 0.00000 0.12500\n",
      "lámh        0.12500 0.12500 0.08333 0.06250 0.00000 0.00000 0.25000 0.00000 0.12500\n",
      "arán        0.00000 0.12500 0.00000 0.06250 0.08333 0.12500 0.00000 0.00000 0.00000\n",
      "sé          0.14583 0.25000 0.00000 0.29167 0.19444 0.12500 0.12500 0.22222 0.00000\n"
     ]
    }
   ],
   "source": [
    "EM(lexP,sourcecorpus,targetcorpus,sourcevocab,targetvocab)\n",
    "printTable(lexP,sourcevocab,targetvocab)"
   ]
  },
  {
   "cell_type": "code",
   "execution_count": 10,
   "metadata": {},
   "outputs": [
    {
     "name": "stdout",
     "output_type": "stream",
     "text": [
      "            broke   his     she     he      ate     bread   hand    rocks   her    \n",
      "bhris       1.00000 0.00000 0.00000 0.00000 0.00000 0.00000 0.00000 0.00000 0.00000\n",
      "d'ith       0.00000 0.00000 0.00000 0.00000 1.00000 0.00174 0.00000 0.00000 0.00000\n",
      "sí          0.00000 0.00000 1.00000 0.00000 0.00000 0.00000 0.00000 0.00000 0.00072\n",
      "a           0.00000 0.99437 0.00000 0.00000 0.00000 0.00737 0.00332 0.00000 0.99437\n",
      "clocha      0.00000 0.00000 0.00000 0.00000 0.00000 0.00000 0.00000 1.00000 0.00000\n",
      "harán       0.00000 0.00000 0.00000 0.00000 0.00000 0.49545 0.00000 0.00000 0.00491\n",
      "lámh        0.00000 0.00000 0.00000 0.00000 0.00000 0.00000 0.99668 0.00000 0.00000\n",
      "arán        0.00000 0.00492 0.00000 0.00000 0.00000 0.49544 0.00000 0.00000 0.00000\n",
      "sé          0.00000 0.00071 0.00000 1.00000 0.00000 0.00000 0.00000 0.00000 0.00000\n"
     ]
    }
   ],
   "source": [
    "for i in range(1000):\n",
    "    EM(lexP,sourcecorpus,targetcorpus,sourcevocab,targetvocab)\n",
    "printTable(lexP,sourcevocab,targetvocab)"
   ]
  }
 ],
 "metadata": {
  "kernelspec": {
   "display_name": "Python 3",
   "language": "python",
   "name": "python3"
  },
  "language_info": {
   "codemirror_mode": {
    "name": "ipython",
    "version": 3
   },
   "file_extension": ".py",
   "mimetype": "text/x-python",
   "name": "python",
   "nbconvert_exporter": "python",
   "pygments_lexer": "ipython3",
   "version": "3.6.8"
  }
 },
 "nbformat": 4,
 "nbformat_minor": 4
}
