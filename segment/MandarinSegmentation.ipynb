{
 "cells": [
  {
   "cell_type": "code",
   "execution_count": 1,
   "metadata": {},
   "outputs": [],
   "source": [
    "import random"
   ]
  },
  {
   "cell_type": "code",
   "execution_count": 2,
   "metadata": {},
   "outputs": [],
   "source": [
    "# argument testdata is a list of [character,label] pairs; return number of correctly predicted labels\n",
    "def unsupervised_prediction(testdata):\n",
    "  correct = 0\n",
    "  for pair in testdata:\n",
    "    guess = random.randint(0,1)\n",
    "    if guess==int(pair[1]):\n",
    "      correct += 1\n",
    "  return correct"
   ]
  },
  {
   "cell_type": "code",
   "execution_count": 3,
   "metadata": {},
   "outputs": [],
   "source": [
    "# argument testdata is a list of [character,label] pairs; return number of correctly predicted labels\n",
    "def supervised_prediction(testdata):\n",
    "  correct = 0\n",
    "  for pair in testdata:\n",
    "    guess = 0\n",
    "    if guess==int(pair[1]):\n",
    "      correct += 1\n",
    "  return correct"
   ]
  },
  {
   "cell_type": "code",
   "execution_count": 4,
   "metadata": {},
   "outputs": [],
   "source": [
    "def evaluate():\n",
    "  total = 0\n",
    "  testfile = open('test.tsv', 'r')\n",
    "  testdata = []\n",
    "  for line in testfile:\n",
    "    total += 1\n",
    "    testdata.append(line.rstrip(\"\\n\").split(\"\\t\"))\n",
    "  return (unsupervised_prediction(testdata)/total, supervised_prediction(testdata)/total)"
   ]
  },
  {
   "cell_type": "code",
   "execution_count": 5,
   "metadata": {},
   "outputs": [
    {
     "data": {
      "text/plain": [
       "(0.49914009388151503, 0.3797294836516672)"
      ]
     },
     "execution_count": 5,
     "metadata": {},
     "output_type": "execute_result"
    }
   ],
   "source": [
    "evaluate()"
   ]
  }
 ],
 "metadata": {
  "kernelspec": {
   "display_name": "Python 3",
   "language": "python",
   "name": "python3"
  },
  "language_info": {
   "codemirror_mode": {
    "name": "ipython",
    "version": 3
   },
   "file_extension": ".py",
   "mimetype": "text/x-python",
   "name": "python",
   "nbconvert_exporter": "python",
   "pygments_lexer": "ipython3",
   "version": "3.6.8"
  }
 },
 "nbformat": 4,
 "nbformat_minor": 4
}
