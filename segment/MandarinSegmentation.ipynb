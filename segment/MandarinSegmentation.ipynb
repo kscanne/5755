{
 "cells": [
  {
   "cell_type": "code",
   "execution_count": 1,
   "metadata": {},
   "outputs": [],
   "source": [
    "import random"
   ]
  },
  {
   "cell_type": "code",
   "execution_count": 2,
   "metadata": {},
   "outputs": [],
   "source": [
    "def precision(results):\n",
    "  return results[(1,1)]/(results[(1,1)]+results[(0,1)])"
   ]
  },
  {
   "cell_type": "code",
   "execution_count": 3,
   "metadata": {},
   "outputs": [],
   "source": [
    "def recall(results):\n",
    "  return results[(1,1)]/(results[(1,1)]+results[(1,0)])"
   ]
  },
  {
   "cell_type": "code",
   "execution_count": 4,
   "metadata": {},
   "outputs": [],
   "source": [
    "def F1(results):\n",
    "  P=precision(results)\n",
    "  R=recall(results)\n",
    "  return 2*P*R/(P+R)"
   ]
  },
  {
   "cell_type": "code",
   "execution_count": 5,
   "metadata": {},
   "outputs": [],
   "source": [
    "def make_results_dict():\n",
    "  aslist=[(0,0),(0,1),(1,0),(1,1)]\n",
    "  return {k: 0 for k in aslist}"
   ]
  },
  {
   "cell_type": "code",
   "execution_count": 6,
   "metadata": {},
   "outputs": [],
   "source": [
    "# argument testdata is a list of [character,label] pairs; make predictions and return F1 score\n",
    "def unsupervised_prediction(testdata):\n",
    "  results = make_results_dict()\n",
    "  for pair in testdata:\n",
    "    guess = random.randint(0,1)\n",
    "    results[(int(pair[1]),guess)] += 1\n",
    "  return F1(results)"
   ]
  },
  {
   "cell_type": "code",
   "execution_count": 7,
   "metadata": {},
   "outputs": [],
   "source": [
    "# argument testdata is a list of [character,label] pairs; make predictions and return F1 score\n",
    "def supervised_prediction(testdata):\n",
    "  results = make_results_dict()\n",
    "  for pair in testdata:\n",
    "    guess = 1\n",
    "    results[(int(pair[1]),guess)] += 1\n",
    "  return F1(results)"
   ]
  },
  {
   "cell_type": "code",
   "execution_count": 8,
   "metadata": {},
   "outputs": [],
   "source": [
    "def evaluate():\n",
    "  testfile = open('test.tsv', 'r')\n",
    "  testdata = []\n",
    "  for line in testfile:\n",
    "    testdata.append(line.rstrip(\"\\n\").split(\"\\t\"))\n",
    "  return (unsupervised_prediction(testdata), supervised_prediction(testdata))"
   ]
  },
  {
   "cell_type": "code",
   "execution_count": 9,
   "metadata": {},
   "outputs": [
    {
     "data": {
      "text/plain": [
       "(0.5551605276930573, 0.7656382191614037)"
      ]
     },
     "execution_count": 9,
     "metadata": {},
     "output_type": "execute_result"
    }
   ],
   "source": [
    "evaluate()"
   ]
  }
 ],
 "metadata": {
  "kernelspec": {
   "display_name": "Python 3",
   "language": "python",
   "name": "python3"
  },
  "language_info": {
   "codemirror_mode": {
    "name": "ipython",
    "version": 3
   },
   "file_extension": ".py",
   "mimetype": "text/x-python",
   "name": "python",
   "nbconvert_exporter": "python",
   "pygments_lexer": "ipython3",
   "version": "3.6.8"
  }
 },
 "nbformat": 4,
 "nbformat_minor": 4
}
